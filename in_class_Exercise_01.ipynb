{
  "cells": [
    {
      "cell_type": "markdown",
      "metadata": {
        "id": "view-in-github",
        "colab_type": "text"
      },
      "source": [
        "<a href=\"https://colab.research.google.com/github/MMR1318/Maheshreddy_INFO5731_Fall2024/blob/main/in_class_Exercise_01.ipynb\" target=\"_parent\"><img src=\"https://colab.research.google.com/assets/colab-badge.svg\" alt=\"Open In Colab\"/></a>"
      ]
    },
    {
      "cell_type": "markdown",
      "metadata": {
        "id": "DymRJbxDBCnf"
      },
      "source": [
        "# **INFO5731 Exercise 1**\n",
        "\n",
        "This exercise covers a variety of fundamental concepts in Python and is designed to help students improve their coding skills and problem-solving abilities.\n",
        "\n",
        "**Expectations**:\n",
        "*   Students are expected to complete the exercise during lecture period to meet the active participation criteria of the course.\n",
        "*   Use the provided .*ipynb* document to write your code & respond to the questions. Avoid generating a new file.\n",
        "*   Write complete answers and run all the cells before submission.\n",
        "*   Make sure the submission is \"clean\"; *i.e.*, no unnecessary code cells.\n",
        "*   Once finished, allow shared rights from top right corner (*see Canvas for details*).\n",
        "\n",
        "**Total points**: 40\n",
        "\n",
        "**Deadline**: This in-class exercise is due at the end of the day tomorrow, at 11:59 PM.\n",
        "\n",
        "**Late submissions cannot be considered, and no requests will be answered. Manage your time accordingly.**\n"
      ]
    },
    {
      "cell_type": "markdown",
      "source": [
        "## Question 1\n",
        "Write a Python program that  prompts the user to input the length and width of a rectangle, and then calculates and displays the area of the rectangle."
      ],
      "metadata": {
        "id": "FBKvD6O_TY6e"
      }
    },
    {
      "cell_type": "code",
      "source": [
        "x = float(input(\"Enter the length of the rectangle: \"))\n",
        "y = float(input(\"Enter the width of the rectangle: \"))\n",
        "\n",
        "# Calculate the area of the rectangle\n",
        "a = x * y\n",
        "\n",
        "# Display the result\n",
        "print(f\"The area of the rectangle is: {a}\")"
      ],
      "metadata": {
        "id": "cikVKDXdTbzE",
        "colab": {
          "base_uri": "https://localhost:8080/"
        },
        "outputId": "43a6442e-7bbc-4b55-b976-4c79cf6c0c69"
      },
      "execution_count": 5,
      "outputs": [
        {
          "output_type": "stream",
          "name": "stdout",
          "text": [
            "Enter the length of the rectangle: 4\n",
            "Enter the width of the rectangle: 5\n",
            "The area of the rectangle is: 20.0\n"
          ]
        }
      ]
    },
    {
      "cell_type": "markdown",
      "source": [
        "## Question 2\n",
        "Create a Python program that interactively takes two numerical inputs from the user and swaps their values without utilizing an extra variable."
      ],
      "metadata": {
        "id": "E9RqrlwdTfvl"
      }
    },
    {
      "cell_type": "code",
      "source": [
        "X = float(input(\"Enter the first number (X): \"))\n",
        "Y = float(input(\"Enter the second number (Y): \"))\n",
        "\n",
        "# Display the original values\n",
        "print(f\"Original values: X = {X}, Y = {Y}\")\n",
        "\n",
        "# Swap the values without using an extra variable\n",
        "X, Y = Y, X\n",
        "\n",
        "# Display the swapped values\n",
        "print(f\"Swapped values: X = {X}, Y = {Y}\")"
      ],
      "metadata": {
        "colab": {
          "base_uri": "https://localhost:8080/"
        },
        "id": "hfOf_-uJmonw",
        "outputId": "deb79819-285b-405d-ccc6-8fc224d69fb0"
      },
      "execution_count": 8,
      "outputs": [
        {
          "output_type": "stream",
          "name": "stdout",
          "text": [
            "Enter the first number (X): 2\n",
            "Enter the second number (Y): 4.3\n",
            "Original values: X = 2.0, Y = 4.3\n",
            "Swapped values: X = 4.3, Y = 2.0\n"
          ]
        }
      ]
    },
    {
      "cell_type": "markdown",
      "metadata": {
        "id": "03jb4GZsBkBS"
      },
      "source": [
        "## Question 3\n",
        "Write a Python script to determine and print the length of a user-input string."
      ]
    },
    {
      "cell_type": "code",
      "execution_count": 9,
      "metadata": {
        "id": "YaGLbSHHB8Ej",
        "colab": {
          "base_uri": "https://localhost:8080/"
        },
        "outputId": "2870a937-74f5-46db-c548-76946f0aa6d2"
      },
      "outputs": [
        {
          "output_type": "stream",
          "name": "stdout",
          "text": [
            "Enter a string: Mahesh\n",
            "The length of the string is: 6\n"
          ]
        }
      ],
      "source": [
        "# Prompt the user to input a string\n",
        "X = input(\"Enter a string: \")\n",
        "\n",
        "# Determine the length of the string\n",
        "Y = len(X)\n",
        "\n",
        "# Print the length of the string\n",
        "print(f\"The length of the string is: {Y}\")"
      ]
    },
    {
      "cell_type": "markdown",
      "metadata": {
        "id": "jJDe71iLB616"
      },
      "source": [
        "## Question 4\n",
        "Construct a Python program that counts and displays the occurrences of each character in a given string.\n",
        "\n",
        "Sample String: 'openai.ai',\n",
        "\n",
        "Expected Result: {'a': 2, 'i': 2, '.': 1, 'o': 1, 'p': 1, 'e': 1, 'n': 1}"
      ]
    },
    {
      "cell_type": "code",
      "execution_count": 16,
      "metadata": {
        "id": "MtKskTzbCLaU",
        "colab": {
          "base_uri": "https://localhost:8080/"
        },
        "outputId": "00aac298-be5e-4bb6-ee64-2d41747607aa"
      },
      "outputs": [
        {
          "output_type": "stream",
          "name": "stdout",
          "text": [
            "Character occurrences: {'o': 1, 'p': 1, 'e': 1, 'n': 1, 'a': 2, 'i': 2, '.': 1}\n"
          ]
        }
      ],
      "source": [
        "# Prompt the user to input a string\n",
        "S = 'openai.ai'\n",
        "\n",
        "# Create an empty dictionary to store character counts\n",
        "C = {}\n",
        "\n",
        "# Iterate through each character in the string\n",
        "for char in S:\n",
        "    # Update the count of the character in the dictionary\n",
        "    if char in C:\n",
        "        C[char] += 1\n",
        "    else:\n",
        "        C[char] = 1\n",
        "\n",
        "# Display the character counts\n",
        "print(\"Character occurrences:\", C)\n",
        "\n",
        "\n"
      ]
    },
    {
      "cell_type": "markdown",
      "metadata": {
        "id": "55W9AMdXCSpV"
      },
      "source": [
        "## Question 5\n",
        "Design a Python code to calculate the sum of all elements in a user-provided list."
      ]
    },
    {
      "cell_type": "code",
      "execution_count": 17,
      "metadata": {
        "id": "I57NXsauCec2",
        "colab": {
          "base_uri": "https://localhost:8080/"
        },
        "outputId": "e3adb522-2543-4929-e66d-97b23bfc085e"
      },
      "outputs": [
        {
          "output_type": "stream",
          "name": "stdout",
          "text": [
            "Enter numbers separated by spaces: 1 2 3\n",
            "The sum of all elements is: 6.0\n"
          ]
        }
      ],
      "source": [
        "# Prompt the user to enter a list of numbers separated by spaces\n",
        "X = input(\"Enter numbers separated by spaces: \")\n",
        "\n",
        "# Convert the input string into a list of numbers\n",
        "Y = [float(num) for num in X.split()]\n",
        "\n",
        "# Calculate the sum of all elements in the list\n",
        "T = sum(Y)\n",
        "\n",
        "# Display the sum of the elements\n",
        "print(f\"The sum of all elements is: {T}\")\n",
        "\n"
      ]
    },
    {
      "cell_type": "markdown",
      "metadata": {
        "id": "4ulBZ6yhCi9F"
      },
      "source": [
        "## Question 6\n",
        "Write a Python program that modifies a given string by replacing all occurrences of its first character with '$', excluding the first character itself.\n",
        "\n",
        "\n",
        "Sample String : 'restart‘\n",
        "Expected Result : 'resta\\$t'"
      ]
    },
    {
      "cell_type": "code",
      "execution_count": 18,
      "metadata": {
        "id": "Fj0XhwbBCw2o",
        "colab": {
          "base_uri": "https://localhost:8080/"
        },
        "outputId": "8ff1493e-9e69-4ea1-ca3e-246cf544a9ad"
      },
      "outputs": [
        {
          "output_type": "stream",
          "name": "stdout",
          "text": [
            "Modified string: resta$t\n"
          ]
        }
      ],
      "source": [
        "# Sample string\n",
        "S = 'restart'\n",
        "\n",
        "# Get the first character of the string\n",
        "F = S[0]\n",
        "\n",
        "# Replace all occurrences of the first character with '$', except for the first character itself\n",
        "M = F + S[1:].replace(F, '$')\n",
        "\n",
        "# Display the modified string\n",
        "print(\"Modified string:\", M)\n",
        "\n"
      ]
    },
    {
      "cell_type": "markdown",
      "source": [
        "## Question 7\n",
        "Write a Python program using a while loop to compute the factorial of a user-supplied number."
      ],
      "metadata": {
        "id": "qVXA3q7ET5JI"
      }
    },
    {
      "cell_type": "code",
      "source": [
        "# Prompt the user to enter a non-negative integer\n",
        "num = int(input(\"Enter a non-negative integer: \"))\n",
        "\n",
        "# Initialize the factorial result and the loop counter\n",
        "result = 1\n",
        "counter = num\n",
        "\n",
        "# Check if the number is negative\n",
        "if num < 0:\n",
        "    print(\"Factorial is not defined for negative numbers.\")\n",
        "else:\n",
        "    # Compute the factorial using a while loop\n",
        "    while counter > 0:\n",
        "        result *= counter\n",
        "        counter -= 1\n",
        "\n",
        "    # Display the factorial result\n",
        "    print(f\"The factorial is: {result}\")\n",
        "\n"
      ],
      "metadata": {
        "id": "Lbt7R6UkT7BA",
        "colab": {
          "base_uri": "https://localhost:8080/"
        },
        "outputId": "1017cef1-01f1-459e-ed26-8314bffdfdf4"
      },
      "execution_count": 21,
      "outputs": [
        {
          "output_type": "stream",
          "name": "stdout",
          "text": [
            "Enter a non-negative integer: 5\n",
            "The factorial is: 120\n"
          ]
        }
      ]
    },
    {
      "cell_type": "markdown",
      "source": [
        "## Question 8\n",
        "Create a program that accepts a list of numbers as input and outputs a new list containing only the even numbers."
      ],
      "metadata": {
        "id": "6YfbzXMNT--R"
      }
    },
    {
      "cell_type": "code",
      "source": [
        "# Prompt the user to enter a list of numbers separated by spaces\n",
        "X = input(\"Enter numbers separated by spaces: \")\n",
        "\n",
        "# Convert the input string into a list of integers\n",
        "Y = [int(num) for num in X.split()]\n",
        "\n",
        "# Create a new list containing only the even numbers\n",
        "even_numbers = [num for num in Y if num % 2 == 0]\n",
        "\n",
        "# Display the list of even numbers\n",
        "print(\"Even numbers:\", even_numbers)\n"
      ],
      "metadata": {
        "id": "54q7wMQPUAKu",
        "colab": {
          "base_uri": "https://localhost:8080/"
        },
        "outputId": "d1331cc4-f1c2-4c7b-a43b-94e3cdb335f8"
      },
      "execution_count": 23,
      "outputs": [
        {
          "output_type": "stream",
          "name": "stdout",
          "text": [
            "Enter numbers separated by spaces: 1 3 5\n",
            "Even numbers: []\n"
          ]
        }
      ]
    },
    {
      "cell_type": "markdown",
      "metadata": {
        "id": "_bIP7s1MCzue"
      },
      "source": [
        "## Question 9\n",
        "Design a Python function to check if a number is prime.\n"
      ]
    },
    {
      "cell_type": "code",
      "execution_count": 24,
      "metadata": {
        "id": "w79QilHXD3Mg",
        "colab": {
          "base_uri": "https://localhost:8080/"
        },
        "outputId": "27394e66-cbb1-4784-8400-a4a64f35feac"
      },
      "outputs": [
        {
          "output_type": "stream",
          "name": "stdout",
          "text": [
            "Enter a number to check if it's prime: 7\n",
            "7 is a prime number.\n"
          ]
        }
      ],
      "source": [
        "def is_prime(X):\n",
        "    \"\"\"Check if the given number X is a prime number.\"\"\"\n",
        "    # Check for numbers less than or equal to 1\n",
        "    if X <= 1:\n",
        "        return False\n",
        "\n",
        "    # Check for number 2 and 3\n",
        "    if X <= 3:\n",
        "        return True\n",
        "\n",
        "    # Eliminate even numbers greater than 2\n",
        "    if X % 2 == 0 or X % 3 == 0:\n",
        "        return False\n",
        "\n",
        "    # Check for factors from 5 to sqrt(X)\n",
        "    Y = 5\n",
        "    while Y * Y <= X:\n",
        "        if X % Y == 0 or X % (Y + 2) == 0:\n",
        "            return False\n",
        "        Y += 6\n",
        "\n",
        "    return True\n",
        "\n",
        "# Example usage\n",
        "number = int(input(\"Enter a number to check if it's prime: \"))\n",
        "if is_prime(number):\n",
        "    print(f\"{number} is a prime number.\")\n",
        "else:\n",
        "    print(f\"{number} is not a prime number.\")\n"
      ]
    },
    {
      "cell_type": "markdown",
      "metadata": {
        "id": "xCa2bK9aD4Q3"
      },
      "source": [
        "## Question 10\n",
        "Write a Python program to concatenate following dictionaries to create a new one.\n",
        "\n",
        "Sample Dictionary : dic1={1:10, 2:20}, dic2={3:30, 4:40}, dic3={5:50,6:60},\n",
        "\n",
        "Expected Result : {1: 10, 2: 20, 3: 30, 4: 40, 5: 50, 6: 60}\n"
      ]
    },
    {
      "cell_type": "code",
      "execution_count": 25,
      "metadata": {
        "id": "_z4aLqAbEET1",
        "colab": {
          "base_uri": "https://localhost:8080/"
        },
        "outputId": "26e7fbe1-9eaa-453c-aadf-7efbb8ef7048"
      },
      "outputs": [
        {
          "output_type": "stream",
          "name": "stdout",
          "text": [
            "Combined dictionary: {1: 10, 2: 20, 3: 30, 4: 40, 5: 50, 6: 60}\n"
          ]
        }
      ],
      "source": [
        "# Define the dictionaries\n",
        "a = {1: 10, 2: 20}\n",
        "b = {3: 30, 4: 40}\n",
        "c = {5: 50, 6: 60}\n",
        "\n",
        "# Concatenate dictionaries using dictionary unpacking (Python 3.5+)\n",
        "combined = {**a, **b, **c}\n",
        "\n",
        "# Display the result\n",
        "print(\"Combined dictionary:\", combined)\n"
      ]
    },
    {
      "cell_type": "markdown",
      "source": [
        "## Question 11\n",
        "Design a Python function that takes a tuple of integers as input and returns the largest and smallest elements."
      ],
      "metadata": {
        "id": "bkyZ2xSZUOst"
      }
    },
    {
      "cell_type": "code",
      "source": [
        "def find_largest_and_smallest(X):\n",
        "    \"\"\"Return the largest and smallest elements in a tuple of integers.\"\"\"\n",
        "    if not X:\n",
        "        raise ValueError(\"The tuple is empty. Cannot determine largest and smallest elements.\")\n",
        "\n",
        "    largest = max(X)\n",
        "    smallest = min(X)\n",
        "\n",
        "    # Return the results as a tuple\n",
        "    Y = (largest, smallest)\n",
        "\n",
        "    return Y\n",
        "\n",
        "# Example usage\n",
        "input_tuple = (34, 78, 12, 89, 23)\n",
        "result = find_largest_and_smallest(input_tuple)\n",
        "\n",
        "print(f\"Largest element: {result[0]}\")\n",
        "print(f\"Smallest element: {result[1]}\")\n"
      ],
      "metadata": {
        "id": "3FdLRBKOUQEd",
        "colab": {
          "base_uri": "https://localhost:8080/"
        },
        "outputId": "4be4d7a5-6e62-4349-94ba-9e033dcc593c"
      },
      "execution_count": 26,
      "outputs": [
        {
          "output_type": "stream",
          "name": "stdout",
          "text": [
            "Largest element: 89\n",
            "Smallest element: 12\n"
          ]
        }
      ]
    },
    {
      "cell_type": "markdown",
      "source": [
        "## Question 12\n",
        "Write a Python program that counts the frequency of each character in a given string and stores it in a dictionary."
      ],
      "metadata": {
        "id": "O0TVi3gKUTpp"
      }
    },
    {
      "cell_type": "code",
      "source": [
        "def count_character_frequency(X):\n",
        "    \"\"\"Count the frequency of each character in the given string X.\"\"\"\n",
        "    Y = {}  # Dictionary to store character counts\n",
        "\n",
        "    # Iterate over each character in the string X\n",
        "    for char in X:\n",
        "        if char in Y:\n",
        "            # Increment count if character is already in the dictionary\n",
        "            Y[char] += 1\n",
        "        else:\n",
        "            # Initialize count for new character\n",
        "            Y[char] = 1\n",
        "\n",
        "    return Y\n",
        "\n",
        "# Example usage\n",
        "input_string = \"mahesh\"\n",
        "result = count_character_frequency(input_string)\n",
        "\n",
        "print(\"Character frequency:\", result)\n"
      ],
      "metadata": {
        "id": "lAtfSfZXUU-h",
        "colab": {
          "base_uri": "https://localhost:8080/"
        },
        "outputId": "6bfb6a03-57df-488b-a35f-1d4298abb71a"
      },
      "execution_count": 28,
      "outputs": [
        {
          "output_type": "stream",
          "name": "stdout",
          "text": [
            "Character frequency: {'m': 1, 'a': 1, 'h': 2, 'e': 1, 's': 1}\n"
          ]
        }
      ]
    },
    {
      "cell_type": "markdown",
      "metadata": {
        "id": "0v48Vqa7FrQh"
      },
      "source": [
        "## Question 13\n",
        "Implement a Python script to identify duplicate elements in a provided array of integers. Return -1 if there are no duplicates."
      ]
    },
    {
      "cell_type": "code",
      "execution_count": 29,
      "metadata": {
        "id": "7WEmgq-DF2P1",
        "colab": {
          "base_uri": "https://localhost:8080/"
        },
        "outputId": "0479ed8c-328d-42fb-bf88-ededb6710cd9"
      },
      "outputs": [
        {
          "output_type": "stream",
          "name": "stdout",
          "text": [
            "Duplicate elements: [2, 3]\n"
          ]
        }
      ],
      "source": [
        "def find_duplicates(X):\n",
        "    \"\"\"Identify duplicate elements in the array X. Return -1 if no duplicates are found.\"\"\"\n",
        "    seen = set()  # Set to keep track of seen elements\n",
        "    duplicates = set()  # Set to keep track of duplicate elements\n",
        "\n",
        "    for element in X:\n",
        "        if element in seen:\n",
        "            # If element is already in seen set, add it to duplicates\n",
        "            duplicates.add(element)\n",
        "        else:\n",
        "            # Otherwise, add element to seen set\n",
        "            seen.add(element)\n",
        "\n",
        "    if duplicates:\n",
        "        # If there are duplicates, return them as a list\n",
        "        return list(duplicates)\n",
        "    else:\n",
        "        # Return -1 if no duplicates are found\n",
        "        return -1\n",
        "\n",
        "# Example usage\n",
        "array = [1, 2, 3, 4, 2, 5, 6, 3]\n",
        "result = find_duplicates(array)\n",
        "\n",
        "if result == -1:\n",
        "    print(\"No duplicates found.\")\n",
        "else:\n",
        "    print(\"Duplicate elements:\", result)\n",
        "\n"
      ]
    },
    {
      "cell_type": "markdown",
      "metadata": {
        "id": "vD5PYLMuGga_"
      },
      "source": [
        "## Question 14\n",
        "Write a Python script to find the common elements between two lists."
      ]
    },
    {
      "cell_type": "code",
      "execution_count": 30,
      "metadata": {
        "id": "t0D5kdJUGjjw",
        "colab": {
          "base_uri": "https://localhost:8080/"
        },
        "outputId": "a5a69a5e-83d2-4f9c-bb7a-dcaaa44a3e1a"
      },
      "outputs": [
        {
          "output_type": "stream",
          "name": "stdout",
          "text": [
            "Common elements: [4, 5]\n"
          ]
        }
      ],
      "source": [
        "def find_common_elements(X, Y):\n",
        "    \"\"\"Find common elements between two lists X and Y.\"\"\"\n",
        "    # Convert both lists to sets to find the intersection\n",
        "    set_X = set(X)\n",
        "    set_Y = set(Y)\n",
        "\n",
        "    # Find common elements using set intersection\n",
        "    common_elements = set_X.intersection(set_Y)\n",
        "\n",
        "    # Convert the result to a list and return\n",
        "    return list(common_elements)\n",
        "\n",
        "# Example usage\n",
        "list1 = [1, 2, 3, 4, 5]\n",
        "list2 = [4, 5, 6, 7, 8]\n",
        "result = find_common_elements(list1, list2)\n",
        "\n",
        "print(\"Common elements:\", result)\n"
      ]
    },
    {
      "cell_type": "markdown",
      "metadata": {
        "id": "uHkd-y5VhVWC"
      },
      "source": [
        "## Question 15\n",
        "Write a Python program to randomly divide the students in this class into maximum of eight groups for term projects, each group should have at least 4 students but no more than 6 students (including 6).\n",
        "\n",
        "Here is the students list:\n",
        "\n",
        "student_list_spring_2024=[rb0846,\n",
        "ac1964,\n",
        "hc0612,\n",
        "md0912,\n",
        "ad1198,\n",
        "md0894,\n",
        "md0825,\n",
        "vg0598,\n",
        "vg0433,\n",
        "mh1068,\n",
        "yj0173,\n",
        "pk0553,\n",
        "tk0411,\n",
        "srk0204,\n",
        "sk2922,\n",
        "sk2936,\n",
        "mk1302,\n",
        "mk1317,\n",
        "tk0412,\n",
        "vk0656,\n",
        "sm2985,\n",
        "mm2372,\n",
        "un0045,\n",
        "an0892,\n",
        "sn0913,\n",
        "gp0252,\n",
        "ap1484,\n",
        "mr1765,\n",
        "sr1385,\n",
        "sr1335,\n",
        "hs0665,\n",
        "ms2060,\n",
        "gt0217,\n",
        "nt0385,\n",
        "tv0186,\n",
        "sv1394,\n",
        "sv1752,\n",
        "sv1555,\n",
        "sy0594\n",
        "]\n"
      ]
    },
    {
      "cell_type": "code",
      "execution_count": 31,
      "metadata": {
        "id": "3iGbmcOBhTwy",
        "colab": {
          "base_uri": "https://localhost:8080/"
        },
        "outputId": "278b8672-18cc-4424-d005-78b8ff0f243c"
      },
      "outputs": [
        {
          "output_type": "stream",
          "name": "stdout",
          "text": [
            "Group 1: ['un0045', 'sm2985', 'md0912', 'gt0217']\n",
            "Group 2: ['md0894', 'an0892', 'ms2060', 'tk0411', 'sv1752', 'nt0385']\n",
            "Group 3: ['hc0612', 'mk1317', 'sr1335', 'hs0665']\n",
            "Group 4: ['sv1394', 'vg0433', 'pk0553', 'sk2936']\n",
            "Group 5: ['tv0186', 'gp0252', 'vg0598', 'tk0412']\n",
            "Group 6: ['sr1385', 'md0825', 'mk1302', 'rb0846']\n",
            "Group 7: ['sv1555', 'ap1484', 'ad1198', 'yj0173']\n",
            "Group 8: ['srk0204', 'sk2922', 'mr1765', 'mm2372', 'sy0594']\n"
          ]
        }
      ],
      "source": [
        "import random\n",
        "\n",
        "def create_groups(X, min_size, max_size, max_groups):\n",
        "    \"\"\"Divide students into groups with specified constraints.\"\"\"\n",
        "    # Shuffle the student list to ensure randomness\n",
        "    random.shuffle(X)\n",
        "\n",
        "    Y = []  # List to hold the groups\n",
        "    index = 0\n",
        "\n",
        "    while index < len(X):\n",
        "        # Determine the number of students for the current group\n",
        "        remaining = len(X) - index\n",
        "        current_group_size = random.randint(min_size, min(max_size, remaining))\n",
        "\n",
        "        # Create the current group and add it to the list of groups\n",
        "        current_group = X[index:index + current_group_size]\n",
        "        Y.append(current_group)\n",
        "\n",
        "        # Move to the next set of students\n",
        "        index += current_group_size\n",
        "\n",
        "        # Stop if we have reached the maximum number of groups\n",
        "        if len(Y) >= max_groups:\n",
        "            break\n",
        "\n",
        "    # If the last group has fewer students than min_size, adjust it\n",
        "    if len(Y) > 0 and len(Y[-1]) < min_size:\n",
        "        if len(Y) > 1:\n",
        "            # Move students from the last group to the second-last group if necessary\n",
        "            Y[-2].extend(Y[-1])\n",
        "            Y.pop()\n",
        "\n",
        "    return Y\n",
        "\n",
        "# List of students for the term projects\n",
        "students = [\n",
        "    'rb0846', 'ac1964', 'hc0612', 'md0912', 'ad1198', 'md0894', 'md0825', 'vg0598',\n",
        "    'vg0433', 'mh1068', 'yj0173', 'pk0553', 'tk0411', 'srk0204', 'sk2922', 'sk2936',\n",
        "    'mk1302', 'mk1317', 'tk0412', 'vk0656', 'sm2985', 'mm2372', 'un0045', 'an0892',\n",
        "    'sn0913', 'gp0252', 'ap1484', 'mr1765', 'sr1385', 'sr1335', 'hs0665', 'ms2060',\n",
        "    'gt0217', 'nt0385', 'tv0186', 'sv1394', 'sv1752', 'sv1555', 'sy0594'\n",
        "]\n",
        "\n",
        "# Parameters\n",
        "min_group_size = 4\n",
        "max_group_size = 6\n",
        "max_number_of_groups = 8\n",
        "\n",
        "# Create the groups\n",
        "groups = create_groups(students, min_group_size, max_group_size, max_number_of_groups)\n",
        "\n",
        "# Print the groups\n",
        "for i, group in enumerate(groups, 1):\n",
        "    print(f\"Group {i}: {group}\")\n",
        "\n"
      ]
    },
    {
      "cell_type": "markdown",
      "metadata": {
        "id": "fmZ9vX20Qs3d"
      },
      "source": [
        "## Question 16\n",
        "Create a program that takes a positive integer 'n' as input and prints the count of even numbers from 1 to 'n'. Optimize the loop using the continue statement."
      ]
    },
    {
      "cell_type": "code",
      "execution_count": 32,
      "metadata": {
        "id": "W8Jw6sWMQs3d",
        "colab": {
          "base_uri": "https://localhost:8080/"
        },
        "outputId": "910c05b5-1ade-4cbc-d388-c61990ad2e22"
      },
      "outputs": [
        {
          "output_type": "stream",
          "name": "stdout",
          "text": [
            "Enter a positive integer: 6\n",
            "The count of even numbers from 1 to 6 is: 3\n"
          ]
        }
      ],
      "source": [
        "def count_even_numbers(n):\n",
        "    \"\"\"Count the number of even numbers from 1 to n.\"\"\"\n",
        "    count = 0\n",
        "\n",
        "    for number in range(1, n + 1):\n",
        "        if number % 2 == 0:\n",
        "            count += 1  # Increment count if the number is even\n",
        "        # No need for an else branch because we use continue to skip odd numbers\n",
        "\n",
        "    return count\n",
        "\n",
        "# Input and validation\n",
        "try:\n",
        "    n = int(input(\"Enter a positive integer: \"))\n",
        "    if n <= 0:\n",
        "        raise ValueError(\"The number must be positive.\")\n",
        "\n",
        "    # Count the even numbers\n",
        "    even_count = count_even_numbers(n)\n",
        "\n",
        "    # Output the result\n",
        "    print(f\"The count of even numbers from 1 to {n} is: {even_count}\")\n",
        "\n",
        "except ValueError as e:\n",
        "    print(f\"Invalid input: {e}\")\n"
      ]
    },
    {
      "cell_type": "markdown",
      "metadata": {
        "id": "hvq4APMhQs3d"
      },
      "source": [
        "## Question 17\n",
        "Develop a Python function called 'count_vowels' that takes a string as input and returns the count of vowels (both lowercase and uppercase) present in the string, ignoring spaces and non-alphabetic characters."
      ]
    },
    {
      "cell_type": "code",
      "execution_count": 33,
      "metadata": {
        "id": "ZnoxhSglQs3d",
        "colab": {
          "base_uri": "https://localhost:8080/"
        },
        "outputId": "070709e3-7c35-4c19-a8b9-db4c92070eb6"
      },
      "outputs": [
        {
          "output_type": "stream",
          "name": "stdout",
          "text": [
            "Enter a string: Mahesh\n",
            "The count of vowels in the string is: 2\n"
          ]
        }
      ],
      "source": [
        "def count_vowels(x):\n",
        "    \"\"\"Count the number of vowels in the input string x.\"\"\"\n",
        "    vowels = \"aeiouAEIOU\"  # Define the vowels\n",
        "    y = 0  # Initialize vowel count\n",
        "\n",
        "    for char in x:\n",
        "        if char in vowels:\n",
        "            y += 1  # Increment count if char is a vowel\n",
        "\n",
        "    return y\n",
        "\n",
        "# Example usage\n",
        "input_string = input(\"Enter a string: \")\n",
        "vowel_count = count_vowels(input_string)\n",
        "\n",
        "print(f\"The count of vowels in the string is: {vowel_count}\")\n",
        "\n"
      ]
    },
    {
      "cell_type": "markdown",
      "source": [
        "## Question 18\n",
        "Create a custom exception named ValueTooSmallError in Python. Write a program that takes user input for an age, and if the entered age is less than 18, raise the ValueTooSmallError with an appropriate error message."
      ],
      "metadata": {
        "id": "55FWoSJPVVM6"
      }
    },
    {
      "cell_type": "code",
      "source": [
        "# Define a custom exception\n",
        "class ValueTooSmallError(Exception):\n",
        "    \"\"\"Exception raised when the input value is too small.\"\"\"\n",
        "    def __init__(self, message):\n",
        "        self.message = message\n",
        "        super().__init__(self.message)\n",
        "\n",
        "def validate_age(x):\n",
        "    \"\"\"Validate if the age x is less than 18 and raise an exception if so.\"\"\"\n",
        "    if x < 18:\n",
        "        raise ValueTooSmallError(f\"Entered age {x} is too small. Must be at least 18.\")\n",
        "    else:\n",
        "        print(f\"Entered age {x} is acceptable.\")\n",
        "\n",
        "# Input from the user\n",
        "try:\n",
        "    y = int(input(\"Enter your age: \"))\n",
        "\n",
        "    # Validate the age\n",
        "    validate_age(y)\n",
        "\n",
        "except ValueError:\n",
        "    print(\"Invalid input! Please enter a valid integer.\")\n",
        "except ValueTooSmallError as e:\n",
        "    print(e)\n"
      ],
      "metadata": {
        "id": "hwtr1wZmVX5A",
        "colab": {
          "base_uri": "https://localhost:8080/"
        },
        "outputId": "1ce0aab2-c8b7-4046-bbda-f272c9fa374c"
      },
      "execution_count": 35,
      "outputs": [
        {
          "output_type": "stream",
          "name": "stdout",
          "text": [
            "Enter your age: 17\n",
            "Entered age 17 is too small. Must be at least 18.\n"
          ]
        }
      ]
    },
    {
      "cell_type": "markdown",
      "source": [
        "## Question 19\n",
        "Develop a script that reverses a given string without using built-in reverse functions."
      ],
      "metadata": {
        "id": "Q9ecagcaVazW"
      }
    },
    {
      "cell_type": "code",
      "source": [
        "def reverse_string(X):\n",
        "    \"\"\"Reverse the given string X without using built-in reverse functions.\"\"\"\n",
        "    Y = \"\"  # Initialize an empty string to build the reversed result\n",
        "\n",
        "    # Iterate over the string from the end to the beginning\n",
        "    for index in range(len(X) - 1, -1, -1):\n",
        "        Y += X[index]  # Append each character to Y\n",
        "\n",
        "    return Y\n",
        "\n",
        "# Input from the user\n",
        "user_input = input(\"Enter a string to reverse: \")\n",
        "\n",
        "# Reverse the string\n",
        "reversed_output = reverse_string(user_input)\n",
        "\n",
        "# Print the reversed string\n",
        "print(f\"Reversed string: {reversed_output}\")\n",
        "\n"
      ],
      "metadata": {
        "id": "gycgckoAVZjR",
        "colab": {
          "base_uri": "https://localhost:8080/"
        },
        "outputId": "adba4683-8747-4d79-bfd8-d9129b62ae8a"
      },
      "execution_count": 36,
      "outputs": [
        {
          "output_type": "stream",
          "name": "stdout",
          "text": [
            "Enter a string to reverse: Mahesh\n",
            "Reversed string: hsehaM\n"
          ]
        }
      ]
    },
    {
      "cell_type": "markdown",
      "source": [
        "## Question 20\n",
        "Implement a Python script to generate a random password of a specified length."
      ],
      "metadata": {
        "id": "ZFG6RibifMLu"
      }
    },
    {
      "cell_type": "code",
      "source": [
        "import random\n",
        "import string\n",
        "\n",
        "def generate_password(X):\n",
        "    \"\"\"Generate a random password of length X.\"\"\"\n",
        "    if X <= 0:\n",
        "        raise ValueError(\"Password length must be greater than 0.\")\n",
        "\n",
        "    # Define the set of characters to choose from\n",
        "    Y = string.ascii_letters + string.digits + string.punctuation\n",
        "\n",
        "    # Generate the password by randomly selecting characters from Y\n",
        "    password = ''.join(random.choice(Y) for _ in range(X))\n",
        "\n",
        "    return password\n",
        "\n",
        "# Input from the user\n",
        "try:\n",
        "    length = int(input(\"Enter the length of the password: \"))\n",
        "\n",
        "    # Generate and display the password\n",
        "    generated_password = generate_password(length)\n",
        "    print(f\"Generated password: {generated_password}\")\n",
        "\n",
        "except ValueError as e:\n",
        "    print(f\"Invalid input: {e}\")\n"
      ],
      "metadata": {
        "id": "BFVrkEi9fNiD",
        "colab": {
          "base_uri": "https://localhost:8080/"
        },
        "outputId": "be855a9a-b6bc-467c-bac5-aeefa8e9d668"
      },
      "execution_count": 37,
      "outputs": [
        {
          "output_type": "stream",
          "name": "stdout",
          "text": [
            "Enter the length of the password: 7\n",
            "Generated password: 3Vr[AoR\n"
          ]
        }
      ]
    },
    {
      "cell_type": "markdown",
      "source": [
        "# Try these questions"
      ],
      "metadata": {
        "id": "6SmvS7nSfbj8"
      }
    },
    {
      "cell_type": "markdown",
      "source": [
        "(21) Define a base class called 'Vehicle' with attributes make and model. Create a derived class Car that inherits from Vehicle and has an additional attribute 'num_doors'. Demonstrate an example of creating an instance of the 'Car' class and accessing its attributes."
      ],
      "metadata": {
        "id": "cboAr5pEWUf5"
      }
    },
    {
      "cell_type": "code",
      "source": [
        "# Base class\n",
        "class X:\n",
        "    def __init__(self, brand, type):\n",
        "        self.brand = brand\n",
        "        self.type = type\n",
        "\n",
        "    def show_info(self):\n",
        "        return f\"Brand: {self.brand}, Type: {self.type}\"\n",
        "\n",
        "# Derived class\n",
        "class Y(X):\n",
        "    def __init__(self, brand, type, doors):\n",
        "        # Initialize the base class\n",
        "        super().__init__(brand, type)\n",
        "        self.doors = doors\n",
        "\n",
        "    def show_info(self):\n",
        "        # Use the base class method and add additional info\n",
        "        base_info = super().show_info()\n",
        "        return f\"{base_info}, Doors: {self.doors}\"\n",
        "\n",
        "# Create an instance of Y\n",
        "my_vehicle = Y(brand=\"Toyota\", type=\"Prius\", doors=4)\n",
        "\n",
        "# Access and print attributes\n",
        "print(f\"Brand: {my_vehicle.brand}\")\n",
        "print(f\"Type: {my_vehicle.type}\")\n",
        "print(f\"Doors: {my_vehicle.doors}\")\n",
        "\n",
        "# Use the show_info method to print all information\n",
        "print(my_vehicle.show_info())\n"
      ],
      "metadata": {
        "id": "phs9gciMWWAW",
        "colab": {
          "base_uri": "https://localhost:8080/"
        },
        "outputId": "4f7c0b42-7a2a-42e1-ca4d-8fed75408b96"
      },
      "execution_count": 39,
      "outputs": [
        {
          "output_type": "stream",
          "name": "stdout",
          "text": [
            "Brand: Toyota\n",
            "Type: Prius\n",
            "Doors: 4\n",
            "Brand: Toyota, Type: Prius, Doors: 4\n"
          ]
        }
      ]
    },
    {
      "cell_type": "markdown",
      "source": [
        "(22) Create a class called 'Shape' with a method calculate_area(). Implement two derived classes 'Circle' and 'Rectangle' that inherit from Shape and override the calculate_area() method. Demonstrate polymorphism by creating instances of both derived classes and calling the calculate_area() method."
      ],
      "metadata": {
        "id": "J8HHefNtePwd"
      }
    },
    {
      "cell_type": "code",
      "source": [
        "import math\n",
        "\n",
        "# Base class\n",
        "class X:\n",
        "    def calculate_area(self):\n",
        "        raise NotImplementedError(\"Subclasses must implement this method\")\n",
        "\n",
        "# Derived class for Circle\n",
        "class Y(X):\n",
        "    def __init__(self, radius):\n",
        "        self.radius = radius\n",
        "\n",
        "    def calculate_area(self):\n",
        "        return math.pi * (self.radius ** 2)\n",
        "\n",
        "# Derived class for Rectangle\n",
        "class Z(X):\n",
        "    def __init__(self, width, height):\n",
        "        self.width = width\n",
        "        self.height = height\n",
        "\n",
        "    def calculate_area(self):\n",
        "        return self.width * self.height\n",
        "\n",
        "# Demonstration of polymorphism\n",
        "def main():\n",
        "    # Create instances of Y and Z\n",
        "    circle = Y(radius=5)\n",
        "    rectangle = Z(width=4, height=6)\n",
        "\n",
        "    # Call the calculate_area method on both instances\n",
        "    print(f\"Circle area: {circle.calculate_area():.2f}\")\n",
        "    print(f\"Rectangle area: {rectangle.calculate_area()}\")\n",
        "\n",
        "if __name__ == \"__main__\":\n",
        "    main()\n"
      ],
      "metadata": {
        "id": "btnMmUZDeRhS",
        "colab": {
          "base_uri": "https://localhost:8080/"
        },
        "outputId": "3dc65371-cee8-439c-a802-4df3a7b519df"
      },
      "execution_count": 40,
      "outputs": [
        {
          "output_type": "stream",
          "name": "stdout",
          "text": [
            "Circle area: 78.54\n",
            "Rectangle area: 24\n"
          ]
        }
      ]
    },
    {
      "cell_type": "markdown",
      "source": [
        "(23) Write a Python program that prompts the user to enter two numbers and perform a division operation. Handle exceptions for both zero division and invalid input (non-numeric input). Display appropriate error messages for each type of exception and ensure the program does not crash due to these errors."
      ],
      "metadata": {
        "id": "z0oqEAlTeMUS"
      }
    },
    {
      "cell_type": "code",
      "source": [
        "def perform_division():\n",
        "    try:\n",
        "        # Prompt the user for input\n",
        "        X = float(input(\"Enter the numerator (X): \"))\n",
        "        Y = float(input(\"Enter the denominator (Y): \"))\n",
        "\n",
        "        # Perform the division\n",
        "        result = X / Y\n",
        "\n",
        "        # Display the result\n",
        "        print(f\"The result of {X} divided by {Y} is {result:.2f}\")\n",
        "\n",
        "    except ValueError:\n",
        "        # Handle the case where the input is not a valid number\n",
        "        print(\"Error: Invalid input. Please enter numeric values.\")\n",
        "\n",
        "    except ZeroDivisionError:\n",
        "        # Handle the case where the denominator is zero\n",
        "        print(\"Error: Division by zero is not allowed. The denominator cannot be zero.\")\n",
        "\n",
        "    except Exception as e:\n",
        "        # Handle any other unexpected exceptions\n",
        "        print(f\"An unexpected error occurred: {e}\")\n",
        "\n",
        "# Call the function\n",
        "perform_division()\n"
      ],
      "metadata": {
        "id": "yjdc1zM1eMAs",
        "colab": {
          "base_uri": "https://localhost:8080/"
        },
        "outputId": "b757dd94-5e41-4b33-ae47-80c0c24f2b4c"
      },
      "execution_count": 41,
      "outputs": [
        {
          "output_type": "stream",
          "name": "stdout",
          "text": [
            "Enter the numerator (X): 5\n",
            "Enter the denominator (Y): 6\n",
            "The result of 5.0 divided by 6.0 is 0.83\n"
          ]
        }
      ]
    },
    {
      "cell_type": "markdown",
      "source": [
        "# Mandatory Question"
      ],
      "metadata": {
        "id": "sZOhks1dXWEe"
      }
    },
    {
      "cell_type": "markdown",
      "source": [
        "**Important:**\n",
        "Reflecting on the first three lectures and the exercises you've completed, please provide feedback on your learning experience. Share your thoughts on whether the material covered was clear, the exercises were helpful, and if you feel more confident in applying Python programming concepts. Additionally, mention any specific areas where you would like more clarification or topics you would like to explore further in future lectures. Your feedback is valuable in shaping the course for an effective learning journey."
      ],
      "metadata": {
        "id": "eqmHVEwaWhbV"
      }
    },
    {
      "cell_type": "code",
      "source": [
        "'''\n",
        "The lectures you provide are very useful\n",
        "I am very happy to share my thought, the demo explained in class is very useful.\n",
        "I had small request instead of explaining PPT, can you please expain more demos?\n",
        "so that it will be helpful\n",
        "'''"
      ],
      "metadata": {
        "id": "akAVJn9YBTQT",
        "colab": {
          "base_uri": "https://localhost:8080/",
          "height": 71
        },
        "outputId": "0a81b7c9-fb8f-47f8-8eb2-b9a5c87e6bf3"
      },
      "execution_count": 42,
      "outputs": [
        {
          "output_type": "execute_result",
          "data": {
            "text/plain": [
              "'\\nThe lectures you provide are very useful\\nI am very happy to share my thought, the demo explained in class is very useful.\\nI had small request instead of explaining PPT, can you please expain more demos?\\nso that it will be helpful \\n'"
            ],
            "application/vnd.google.colaboratory.intrinsic+json": {
              "type": "string"
            }
          },
          "metadata": {},
          "execution_count": 42
        }
      ]
    }
  ],
  "metadata": {
    "colab": {
      "provenance": [],
      "toc_visible": true,
      "include_colab_link": true
    },
    "kernelspec": {
      "display_name": "Python 3 (ipykernel)",
      "language": "python",
      "name": "python3"
    },
    "language_info": {
      "codemirror_mode": {
        "name": "ipython",
        "version": 3
      },
      "file_extension": ".py",
      "mimetype": "text/x-python",
      "name": "python",
      "nbconvert_exporter": "python",
      "pygments_lexer": "ipython3",
      "version": "3.9.12"
    }
  },
  "nbformat": 4,
  "nbformat_minor": 0
}