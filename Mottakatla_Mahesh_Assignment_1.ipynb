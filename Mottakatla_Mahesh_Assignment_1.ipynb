{
 "cells": [
  {
   "cell_type": "markdown",
   "metadata": {
    "id": "view-in-github"
   },
   "source": [
    "<a href=\"https://colab.research.google.com/github/unt-iialab/INFO5731_Spring2020/blob/master/Assignments/INFO5731_Assignment_One.ipynb\" target=\"_parent\"><img src=\"https://colab.research.google.com/assets/colab-badge.svg\" alt=\"Open In Colab\"/></a>"
   ]
  },
  {
   "cell_type": "markdown",
   "metadata": {
    "id": "Ryk8D1Q4Wsrp"
   },
   "source": [
    "# **INFO5731 Assignment One**"
   ]
  },
  {
   "cell_type": "markdown",
   "metadata": {
    "id": "qcP6re2g5A5r"
   },
   "source": [
    "This assignment includes range of programming tasks and data analysis exercises, aiming to enhance your Python skills and proficiency in string manipulation, numerical computations, and data science. Follow the instructions carefully and design well-structured Python programs to address each question.\n",
    "\n",
    "Late Submission will have a penalty of 10% reduction for each day after the deadline."
   ]
  },
  {
   "cell_type": "markdown",
   "metadata": {
    "id": "JkzR8cFAyGik"
   },
   "source": [
    "# Question 1 (10 points).\n",
    "\n",
    "The formula that describes the volume V of a hemisphere with radius r is the following:\n",
    "\n",
    "$ V=\\frac{2}{3}\\ast\\ \\pi\\ast\\ r^3 $\n",
    "\n",
    "Write a program to calculate the value of V when r is in the range of even numbers from 1-20. Output the result in the following format:\n",
    "\n",
    "\tr\tV\n",
    "\t2\t…\n",
    "\t4\t…\n",
    "\t6\t…\n",
    "\t.\n",
    "\t.\n",
    "\t.\n",
    "\t20\t…\n"
   ]
  },
  {
   "cell_type": "code",
   "execution_count": 5,
   "metadata": {
    "id": "jDyTKYs-yGit"
   },
   "outputs": [
    {
     "name": "stdout",
     "output_type": "stream",
     "text": [
      "r\tV\n",
      "2 16.746666666666666\n",
      "4 133.97333333333333\n",
      "6 452.15999999999997\n",
      "8 1071.7866666666666\n",
      "10 2093.3333333333335\n",
      "12 3617.2799999999997\n",
      "14 5744.106666666667\n",
      "16 8574.293333333333\n",
      "18 12208.32\n",
      "20 16746.666666666668\n"
     ]
    }
   ],
   "source": [
    "# Your code here\n",
    "print('r'+'\t'+'V')\n",
    "for i in range(1,11):\n",
    "    r=i*2\n",
    "    V=(2/3)*(3.14)*(r**3)\n",
    "    print(str(r)+' '+str(V))\n",
    "\n"
   ]
  },
  {
   "cell_type": "markdown",
   "metadata": {
    "id": "90_NR8c5XGWc"
   },
   "source": [
    "# Question 2 (20 points)\n",
    "\n",
    "(a) Write a Python program to generate a sequence of 12 random numbers falling within the range of 50 to 150.\n",
    "\n",
    "(b) Arrange the generated numbers in ascending order. Display the sorted list.\n",
    "\n",
    "(c) Extend the program to arrange the numbers in descending order as well. Present the sorted list accordingly.\n",
    "\n",
    "(d) Compute and output the average of the entire group of generated numbers.\n",
    "\n",
    "(e) Enhance the program to calculate and display the average of the first 6 numbers from both the ascending and descending sorted lists."
   ]
  },
  {
   "cell_type": "code",
   "execution_count": 7,
   "metadata": {
    "id": "5QX6bJjGWXY9"
   },
   "outputs": [
    {
     "name": "stdout",
     "output_type": "stream",
     "text": [
      "Random Sequence: [87, 91, 148, 78, 128, 71, 77, 117, 114, 150, 135, 53]\n",
      "Random Sequence in ascending order: [53, 71, 77, 78, 87, 91, 114, 117, 128, 135, 148, 150]\n",
      "Random Sequence in descending order: [150, 148, 135, 128, 117, 114, 91, 87, 78, 77, 71, 53]\n",
      "Average of random sequence: 104.08333333333333\n",
      "Average of first 6 numbers in ascending order sequence: 76.16666666666667\n",
      "Average of first 6 numbers in descending order sequence: 132.0\n"
     ]
    }
   ],
   "source": [
    "# Write code for each of the sub parts with proper comments.\n",
    "###  1) Python program to generate a sequence of 12 random numbers falling within the range of 50 to 150 ###\n",
    "import random\n",
    "random_seq =[]\n",
    "for i in range(0,12):\n",
    "    random_seq.append(random.randint(50,150))\n",
    "print(\"Random Sequence:\" ,random_seq)\n",
    "\n",
    "### 2) To arrange the generated numbers in ascending order ###\n",
    "asc_random_seq = sorted(random_seq)\n",
    "print(\"Random Sequence in ascending order:\",asc_random_seq)\n",
    "\n",
    "### 3) To arrange the numbers in descending order ###\n",
    "\n",
    "desc_random_seq = asc_random_seq[::-1]\n",
    "print(\"Random Sequence in descending order:\",desc_random_seq)\n",
    "\n",
    "###4) To compute and output the average of the entire group of generated numbers ###\n",
    "\n",
    "avg_random_seq = sum(random_seq)/len(random_seq)\n",
    "print(\"Average of random sequence:\" ,avg_random_seq)\n",
    "\n",
    "### 5) To calculate and display the average of the first 6 numbers from both the ascending and descending sorted lists ###\n",
    "\n",
    "avg_asc_random_seq = sum(asc_random_seq[0:6])/6\n",
    "avg_desc_random_seq = sum(desc_random_seq[0:6])/6\n",
    "\n",
    "print(\"Average of first 6 numbers in ascending order sequence:\",avg_asc_random_seq)\n",
    "print(\"Average of first 6 numbers in descending order sequence:\",avg_desc_random_seq)"
   ]
  },
  {
   "cell_type": "markdown",
   "metadata": {
    "id": "1F_PZdH9Sh49"
   },
   "source": [
    "# Question 3 (20 points).\n",
    "\n",
    "Create a Python program that encompasses various string manipulation task:\n",
    "\n",
    "(a) Prompt the user to input two sentences.\n",
    "\n",
    "(b) Transform each sentence into a list, where each element corresponds to a word in the sentence. For example, if the sentences are \"Hello, how are you doing today?\" and \"This is an example sentence for the program!\"\n",
    "\n",
    "The program should output:\n",
    "['Hello', ',', 'how', 'are', 'you', 'doing', 'today', '?', 'This', 'is', 'an', 'example', 'sentence', 'for', 'the', 'program', '!']\n",
    "\n",
    "(c) Compare the two sentences. Print out a list of words that occur in both sentences.\n",
    "\n",
    "(d) Remove any punctuation from the sentence and print the sanitized sentences. It should remove at least the following characters, but it can remove more: period(“.”), comma (“,”), semicolon (“;”), and colon (“:”).\n",
    "\n",
    "(e) Count the number of vowels in each of the sentences. Print out each vowel and the occurrences  in the each of the two sentences separately, such as:\n",
    "\n",
    "Sentence1: a:2, e:2, i:0, etc.\n",
    "Sentence2: a:1, e:2, i:2, etc.\n",
    "\n",
    "Design a well-structured Python program to execute these tasks efficiently."
   ]
  },
  {
   "cell_type": "code",
   "execution_count": 9,
   "metadata": {
    "id": "Y0oOSlsOS0cq"
   },
   "outputs": [
    {
     "name": "stdout",
     "output_type": "stream",
     "text": [
      "Enter two sentences\n"
     ]
    },
    {
     "name": "stdin",
     "output_type": "stream",
     "text": [
      "Enter the first sentence Hello, how are you doing today?\n",
      "Enter the second sentence This is an example sentence for the program!\n"
     ]
    },
    {
     "name": "stdout",
     "output_type": "stream",
     "text": [
      "\n",
      "List of words of both the sentences:['Hello', ',', 'how', 'are', 'you', 'doing', 'today', '?', 'This', 'is', 'an', 'example', 'sentence', 'for', 'the', 'program', '!']\n",
      "\n",
      "List with common words in both the sentences\n",
      "[]\n",
      "\n",
      "Sentences with no punctuation\n",
      "Hello how are you doing today\n",
      "This is an example sentence for the program\n",
      "\n",
      "Sentence1:  e:2 o:5 a:2 u:1 i:1 Sentence2:  i:1 a:2 e:2 o:5 "
     ]
    }
   ],
   "source": [
    "# Your code here\n",
    "import string\n",
    "print(\"Enter two sentences\")\n",
    "sen1=input(\"Enter the first sentence\")\n",
    "sen2=input(\"Enter the second sentence\")\n",
    "print()\n",
    "\n",
    "list1=sen1.split(\" \")\n",
    "list2=sen2.split(\" \")\n",
    "final_list1=[]\n",
    "final_list2=[]\n",
    "for i in list1:\n",
    "    if i[0] in string.punctuation:\n",
    "        final_list1.extend([i[0],i[1:]])\n",
    "    if i[-1] in string.punctuation:\n",
    "        final_list1.extend([i[:-1],i[-1]])\n",
    "    else:\n",
    "        final_list1.append(i)\n",
    "for i in list2:\n",
    "    if i[0] in string.punctuation:\n",
    "        final_list2.extend([i[0],i[0:]])\n",
    "    if i[-1] in string.punctuation:\n",
    "        final_list2.extend([i[:-1],i[-1]])\n",
    "    else:\n",
    "        final_list2.append(i)\n",
    "print(\"List of words of both the sentences\",end=\":\")\n",
    "print(final_list1+final_list2)\n",
    "print()\n",
    "\n",
    "set1=set(final_list1)\n",
    "set2=set(final_list2)\n",
    "com_words=[]\n",
    "for i in set1:\n",
    "    if i in set2:\n",
    "        com_words.append(i)\n",
    "print(\"List with common words in both the sentences\")\n",
    "print(com_words)\n",
    "print()\n",
    "\n",
    "sanitized_list1=final_list1\n",
    "for i in sanitized_list1:\n",
    "    if i in string.punctuation:\n",
    "        sanitized_list1.remove(i)\n",
    "sanitized_sen1=\" \".join(sanitized_list1)\n",
    "print(\"Sentences with no punctuation\")\n",
    "print(sanitized_sen1)\n",
    "\n",
    "sanitized_list2=final_list2\n",
    "for i in sanitized_list2:\n",
    "    if i in string.punctuation:\n",
    "        sanitized_list2.remove(i)\n",
    "sanitized_sen2=\" \".join(sanitized_list2)\n",
    "print(sanitized_sen2)\n",
    "print()\n",
    "\n",
    "d1={}\n",
    "d2={}\n",
    "for i in sen1:\n",
    "    if i in ['a','e','i','o','u']:\n",
    "        if i not in d1:\n",
    "            d1[i]=1\n",
    "        else:\n",
    "            d1[i]+=1\n",
    "print(\"Sentence1: \",end=\" \")\n",
    "for i in d1:\n",
    "    print(i+\":\"+str(d1[i]),end=\" \")\n",
    "    \n",
    "for i in sen2:\n",
    "    if i in ['a','e','i','o','u']:\n",
    "        if i not in d2:\n",
    "            d2[i]=1\n",
    "        else:\n",
    "            d2[i]+=1\n",
    "print(\"Sentence2: \",end=\" \")\n",
    "for i in d2:\n",
    "    print(i+\":\"+str(d1[i]),end=\" \")\n"
   ]
  },
  {
   "cell_type": "markdown",
   "metadata": {
    "id": "OP4-5qxAtInv"
   },
   "source": [
    "# Question 4 (20 Points)"
   ]
  },
  {
   "cell_type": "markdown",
   "metadata": {
    "id": "uzN4_hDptK9U"
   },
   "source": [
    "Design and implement a simple command-line calculator program. The program should handle both integers and floating-point numbers.\n",
    "\n",
    "(a) Write program that takes a mathematical expression as input and evaluates it. The program should support addition, subtraction, multiplication, and division.\n",
    "\n",
    "(b) Extend the calculator to handle parentheses in mathematical expressions. Implement the necessary logic to evaluate expressions with nested parentheses.\n",
    "\n",
    "(c) Enhance your calculator to include additional mathematical operations such as exponentiation, square root, and modulus.\n",
    "\n",
    "(d) Implement error handling in the calculator program. Handle cases such as division by zero and invalid input expressions. Provide meaningful error messages.\n",
    "\n",
    "(e) Implement a command to exit the calculator."
   ]
  },
  {
   "cell_type": "code",
   "execution_count": 52,
   "metadata": {
    "id": "8nQnVxjJuYtu"
   },
   "outputs": [
    {
     "name": "stdin",
     "output_type": "stream",
     "text": [
      "Enter the mathematical expression or type exit 4+9\n"
     ]
    },
    {
     "name": "stdout",
     "output_type": "stream",
     "text": [
      "Output:13\n"
     ]
    },
    {
     "name": "stdin",
     "output_type": "stream",
     "text": [
      "Enter the advanced mathematical expression or type exit 5**6\n"
     ]
    },
    {
     "name": "stdout",
     "output_type": "stream",
     "text": [
      "Output:15625\n",
      "error handling\n"
     ]
    },
    {
     "name": "stdin",
     "output_type": "stream",
     "text": [
      "Enter the mathematical expression or type exit 5.?bt\n"
     ]
    },
    {
     "name": "stdout",
     "output_type": "stream",
     "text": [
      "Invalid mathematical expression to evaluate\n"
     ]
    }
   ],
   "source": [
    "\n",
    "import math\n",
    "math_exp=input(\"Enter the mathematical expression or type exit\")\n",
    "if math_exp.lower()==\"exit\":\n",
    "    print(\"Exiting the calculator\")\n",
    "else:\n",
    "    print(\"Output:\"+ str(eval(math_exp)))\n",
    "\n",
    "adv_exp=input(\"Enter the advanced mathematical expression or type exit\")\n",
    "if adv_exp.lower()==\"exit\":\n",
    "    print(\"Exiting the calculator\")\n",
    "else:\n",
    "    output = eval(adv_exp , {\"sqrt\": math.sqrt, \"**\": pow})\n",
    "    print(\"Output:\"+ str(output))\n",
    "\n",
    "print(\"error handling\")\n",
    "exp=input(\"Enter the mathematical expression or type exit\")\n",
    "if math_exp.lower()==\"exit\":\n",
    "    print(\"Exiting the calculator\")\n",
    "\n",
    "try:\n",
    "    output = eval(exp, {\"sqrt\": math.sqrt, \"**\": pow})\n",
    "    print(\"Output:\"+str(output))\n",
    "except ZeroDivisionError:\n",
    "    print(\"Division by zero is undefined\")\n",
    "except (SyntaxError, NameError):\n",
    "    print(\"Invalid mathematical expression to evaluate\")\n",
    "except Exception as e:\n",
    "    print(\"exception\", e)"
   ]
  },
  {
   "cell_type": "markdown",
   "metadata": {
    "id": "z3tBE7E-Xn5X"
   },
   "source": [
    "# Question 5 (30 points).\n",
    "\n",
    "In the field of Data Science, data is often formatted as a comma-delimited (CSV) file, where each line in a file corresponds to a field's value. Refer to Chapter 9 (p. 106) for more information on comma-delimited files.\n",
    "\n",
    "To answer this question, you will need to download the file [Assignment1_denton_housing.csv](https://raw.githubusercontent.com/unt-iialab/info5731-spring2022/main/assignments/Assignment1_denton_housing.csv) included with this assignment. The file contains statistics about housing in the city of Denton from 2008 to 2014. Write a program to implement the following questions.\n",
    "\n",
    "(a) (5 pts) Calculate the difference in the number of Occupied Housing Units from year to year and print it. The difference must be calculated for the consecutive years such as 2008-2009, 2009-2010 etc. Finally, print the values in the ascending order.\n",
    "\n",
    "(b) (5 pts) For all the years, calculate the percentage of housing units which are vacant an occupied. Print the results in the following format:\n",
    "\n",
    "Year Vacant Housing Units Occupied Housing Units\n",
    "\n",
    "    2008  30%   70%                          \n",
    "\t2009 ----- -----\n",
    "\t2010 ----- -----\n",
    "    2011 ----- -----\n",
    "\t2012 ----- -----\n",
    "    2013 ----- -----\n",
    "\t2014 ----- -----\n",
    "  \n",
    "  \n",
    "\n",
    "(c) (10 pts) Calculate and print the valued and years in which the highest number of housing units were vacant and occupied. Print the results in the following format:  \n",
    "\n",
    "                              Year\tValue\n",
    "\tVacant Housing Units\t  -----   -----\n",
    "\tOccupied Housing Units\t-----   -----\n",
    "\n",
    "(d) (10 pts) Calculate the harmonic mean of the total housing units and print it out. You can find the information about harmonic mean here: https://ncalculators.com/statistics/harmonic-mean-calculator.htm"
   ]
  },
  {
   "cell_type": "code",
   "execution_count": 4,
   "metadata": {
    "id": "lqGYuHBhcsRH"
   },
   "outputs": [
    {
     "name": "stdout",
     "output_type": "stream",
     "text": [
      "    year  unit_diff_year_to_year\n",
      "17  2009                  -795.0\n",
      "11  2011                  -303.0\n",
      "8   2012                  1404.0\n",
      "5   2013                  1565.0\n",
      "2   2014                  2622.0\n",
      "14  2010                  5091.0\n",
      "\n",
      "2014 5.73% 94.27%\n",
      "2013 8.80% 91.20%\n",
      "2012 6.68% 93.32%\n",
      "2011 9.38% 90.62%\n",
      "2010 8.14% 91.86%\n",
      "2009 9.07% 90.93%\n",
      "2008 10.88% 89.12%\n",
      "\n",
      "                      Year Value\n",
      "Vacant Housing Units  2008, 4483\n",
      "Occupied Housing Units  2014, 46295\n",
      "\n",
      "Harmonic mean: 44398.29\n"
     ]
    }
   ],
   "source": [
    " # Your code here\n",
    "import pandas as pd\n",
    "from scipy.stats import hmean\n",
    "\n",
    "dataframe = pd.read_csv(\"Assignment1_denton_housing.csv\")\n",
    "req_dataframe = dataframe[dataframe['title_field'] == 'Occupied Housing Units']\n",
    "\n",
    "req_dataframe = req_dataframe.sort_values(by='year', ascending=True)\n",
    "req_dataframe['unit_diff_year_to_year'] = req_dataframe['value'].diff()\n",
    "\n",
    "req_dataframe= req_dataframe.dropna()\n",
    "\n",
    "req_dataframe_sort = req_dataframe[['year', 'unit_diff_year_to_year']].sort_values(by='unit_diff_year_to_year')\n",
    "print(req_dataframe_sort)\n",
    "print()\n",
    "\n",
    "\n",
    "for year in dataframe['year'].unique():\n",
    "    housing_units_total = dataframe[(dataframe['year'] == year) & (dataframe['title_field'] == 'Total Housing Units')]['value'].values[0]\n",
    "    housing_units_vacant = dataframe[(dataframe['year'] == year) & (dataframe['title_field'] == 'Vacant Housing Units')]['value'].values[0]\n",
    "    housing_units_occupied =dataframe[(dataframe['year'] == year) & (dataframe['title_field'] == 'Occupied Housing Units')]['value'].values[0]\n",
    "    vacant_housing_units = (housing_units_vacant / housing_units_total) * 100\n",
    "    occupied_housing_units = (housing_units_occupied / housing_units_total) * 100\n",
    "    print(f\"{year} {vacant_housing_units:.2f}% {occupied_housing_units:.2f}%\")\n",
    "print()\n",
    "\n",
    "\n",
    "vacant_units_max = dataframe[dataframe['title_field'] == 'Vacant Housing Units'].sort_values(by='value', ascending=False).iloc[0]\n",
    "occupied_units_max = dataframe[dataframe['title_field'] == 'Occupied Housing Units'].sort_values(by='value', ascending=False).iloc[0]\n",
    "print(\"                     \" ,\"Year\",\"Value\")\n",
    "print(f\"Vacant Housing Units  {vacant_units_max['year']}, {vacant_units_max['value']}\")\n",
    "print(f\"Occupied Housing Units  {occupied_units_max['year']}, {occupied_units_max['value']}\")\n",
    "print()\n",
    "\n",
    "\n",
    "\n",
    "housing_units_total = dataframe[dataframe['title_field'] == 'Total Housing Units']['value']\n",
    "har_mean = hmean(housing_units_total)\n",
    "print(f\"Harmonic mean: {har_mean:.2f}\")\n",
    "\n",
    "\n",
    "        \n"
   ]
  },
  {
   "cell_type": "markdown",
   "metadata": {
    "id": "q8BFCvWp32cf"
   },
   "source": [
    "# Mandatory Question\n",
    "\n",
    "Provide your thoughts on the assignment. What did you find challenging, and what aspects did you enjoy? Your opinion on the provided time to complete the assignment. Share any suggestions for improvement. Your feedback will be valuable for enhancing the learning experience."
   ]
  },
  {
   "cell_type": "code",
   "execution_count": null,
   "metadata": {
    "id": "_e557s2w4BpK"
   },
   "outputs": [],
   "source": [
    "# Write your response below\n",
    "Above assignment is very interesting but a bit challenging in the data science topic.\n",
    "It helped me to learn in depth concepts of string manipulation functions.\n",
    "It also helped me to learn and practice dataframe creation and manipulation.\n",
    "\n"
   ]
  }
 ],
 "metadata": {
  "colab": {
   "provenance": []
  },
  "kernelspec": {
   "display_name": "Python 3 (ipykernel)",
   "language": "python",
   "name": "python3"
  },
  "language_info": {
   "codemirror_mode": {
    "name": "ipython",
    "version": 3
   },
   "file_extension": ".py",
   "mimetype": "text/x-python",
   "name": "python",
   "nbconvert_exporter": "python",
   "pygments_lexer": "ipython3",
   "version": "3.12.4"
  }
 },
 "nbformat": 4,
 "nbformat_minor": 4
}
